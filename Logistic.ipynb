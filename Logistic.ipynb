{
 "cells": [
  {
   "cell_type": "code",
   "execution_count": null,
   "metadata": {},
   "outputs": [
    {
     "name": "stderr",
     "output_type": "stream",
     "text": [
      "Exception in thread Thread-3:\n",
      "Traceback (most recent call last):\n",
      "  File \"c:\\Users\\62687\\anaconda3\\envs\\rrl\\lib\\threading.py\", line 950, in _bootstrap_inner\n",
      "    self.run()\n",
      "  File \"c:\\Users\\62687\\anaconda3\\envs\\rrl\\lib\\site-packages\\ipykernel\\ipkernel.py\", line 766, in run_closure\n",
      "    _threading_Thread_run(self)\n",
      "  File \"c:\\Users\\62687\\anaconda3\\envs\\rrl\\lib\\threading.py\", line 888, in run\n",
      "    self._target(*self._args, **self._kwargs)\n",
      "  File \"c:\\Users\\62687\\anaconda3\\envs\\rrl\\lib\\subprocess.py\", line 1475, in _readerthread\n",
      "    buffer.append(fh.read())\n",
      "  File \"c:\\Users\\62687\\anaconda3\\envs\\rrl\\lib\\codecs.py\", line 322, in decode\n",
      "    (result, consumed) = self._buffer_decode(data, self.errors, final)\n",
      "UnicodeDecodeError: 'utf-8' codec can't decode byte 0xb5 in position 27: invalid start byte\n",
      "  File \"c:\\Users\\62687\\anaconda3\\envs\\rrl\\lib\\site-packages\\joblib\\externals\\loky\\backend\\context.py\", line 257, in _count_physical_cores\n",
      "    cpu_info = subprocess.run(\n",
      "  File \"c:\\Users\\62687\\anaconda3\\envs\\rrl\\lib\\subprocess.py\", line 503, in run\n",
      "    stdout, stderr = process.communicate(input, timeout=timeout)\n",
      "  File \"c:\\Users\\62687\\anaconda3\\envs\\rrl\\lib\\subprocess.py\", line 1130, in communicate\n",
      "    stdout, stderr = self._communicate(input, endtime, timeout)\n",
      "  File \"c:\\Users\\62687\\anaconda3\\envs\\rrl\\lib\\subprocess.py\", line 1525, in _communicate\n",
      "    stdout = stdout[0]\n"
     ]
    }
   ],
   "source": [
    "from utils import read_data, preprocess\n",
    "import numpy as np\n",
    "import pandas as pd\n",
    "from sklearn.model_selection import train_test_split, cross_val_score\n",
    "from sklearn.linear_model import LogisticRegression\n",
    "from sklearn.metrics import accuracy_score, confusion_matrix, classification_report\n",
    "from imblearn.over_sampling import RandomOverSampler, SMOTE\n",
    "import warnings\n",
    "warnings.filterwarnings('ignore')\n",
    "\n",
    "RANDOM_SEED = 42\n",
    "\n",
    "data = read_data()\n",
    "data = preprocess(data)\n",
    "\n",
    "X, y = data.iloc[:, :-1], data['stroke']\n",
    "X_train, X_test, y_train, y_test = train_test_split(X, y, test_size=0.3, random_state=RANDOM_SEED)\n",
    "oversample = SMOTE(sampling_strategy='auto', random_state=RANDOM_SEED)\n",
    "X_train, y_train = oversample.fit_resample(X_train, y_train)"
   ]
  },
  {
   "cell_type": "code",
   "execution_count": 2,
   "metadata": {},
   "outputs": [
    {
     "data": {
      "text/plain": [
       "stroke\n",
       "0.0    3417\n",
       "1.0    3417\n",
       "Name: count, dtype: int64"
      ]
     },
     "execution_count": 2,
     "metadata": {},
     "output_type": "execute_result"
    }
   ],
   "source": [
    "y_train.value_counts()"
   ]
  },
  {
   "cell_type": "code",
   "execution_count": 3,
   "metadata": {},
   "outputs": [
    {
     "name": "stdout",
     "output_type": "stream",
     "text": [
      "Accuracy: 0.7495\n",
      "Confusion Matrix:\n",
      "[[1083  361]\n",
      " [  23   66]]\n",
      "Classification Report:\n",
      "              precision    recall  f1-score   support\n",
      "\n",
      "         0.0       0.98      0.75      0.85      1444\n",
      "         1.0       0.15      0.74      0.26        89\n",
      "\n",
      "    accuracy                           0.75      1533\n",
      "   macro avg       0.57      0.75      0.55      1533\n",
      "weighted avg       0.93      0.75      0.81      1533\n",
      "\n"
     ]
    }
   ],
   "source": [
    "# param_grid={\n",
    "#     'C':[0.001,0.01,0.1,1,10,100], \n",
    "#     'max_iter':[50,75,100,200,300,400,500,700]\n",
    "# }\n",
    "# log = RandomizedSearchCV(LogisticRegression(solver='lbfgs'), param_grid, cv=5)\n",
    "# log.fit(X_train,y_train)\n",
    "# y_pred_log=log.predict(X_test)\n",
    "# confusion_log=confusion_matrix(y_test,log.predict(X_test))\n",
    "# plt.figure(figsize=(8,8))\n",
    "# sns.heatmap(confusion_log,annot=True)\n",
    "# plt.xlabel(\"Predicted\")\n",
    "# plt.ylabel(\"Actual\")\n",
    "# print(classification_report(y_test,y_pred_log))\n",
    "\n",
    "\n",
    "\n",
    "model = LogisticRegression(penalty='l1', solver='liblinear', C=1.0)\n",
    "# scores = cross_val_score(model, X_train, y_train, cv=5, scoring='f1')\n",
    "model.fit(X_train, y_train)\n",
    "y_pred = model.predict(X_test)\n",
    "# print(\"Average cross-validation score:\", scores.mean())\n",
    "\n",
    "accuracy = accuracy_score(y_test, y_pred)\n",
    "print(f'Accuracy: {accuracy:.4f}')\n",
    "\n",
    "# 混淆矩阵\n",
    "print(\"Confusion Matrix:\")\n",
    "print(confusion_matrix(y_test, y_pred))\n",
    "\n",
    "# 分类报告\n",
    "print(\"Classification Report:\")\n",
    "print(classification_report(y_test, y_pred))"
   ]
  }
 ],
 "metadata": {
  "kernelspec": {
   "display_name": "rrl",
   "language": "python",
   "name": "python3"
  },
  "language_info": {
   "codemirror_mode": {
    "name": "ipython",
    "version": 3
   },
   "file_extension": ".py",
   "mimetype": "text/x-python",
   "name": "python",
   "nbconvert_exporter": "python",
   "pygments_lexer": "ipython3",
   "version": "3.9.0"
  }
 },
 "nbformat": 4,
 "nbformat_minor": 2
}
